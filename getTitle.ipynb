{
 "cells": [
  {
   "cell_type": "code",
   "execution_count": 49,
   "id": "dfd94b9f-ba2a-454a-8388-5edf4c0c01b4",
   "metadata": {},
   "outputs": [],
   "source": [
    "from bs4 import BeautifulSoup\n",
    "import requests\n"
   ]
  },
  {
   "cell_type": "code",
   "execution_count": 50,
   "id": "13c5a529-7070-4580-964a-060b183528b7",
   "metadata": {},
   "outputs": [],
   "source": [
    "url=\"https://www.swissinfo.ch/por/a-su%C3%AD%C3%A7a-defenderia-o-liechtenstein-no-caso-de-um-ataque-militar-/47798482\""
   ]
  },
  {
   "cell_type": "code",
   "execution_count": 51,
   "id": "932931a3-e11d-4438-83c6-beb2bd0e18bc",
   "metadata": {},
   "outputs": [],
   "source": [
    "url=\"https://www.bbc.com/portuguese/articles/cj0ydym93nlo\""
   ]
  },
  {
   "cell_type": "code",
   "execution_count": 52,
   "id": "9683271c-7d23-4a94-9d4d-4d066795c7fd",
   "metadata": {},
   "outputs": [],
   "source": [
    "url=\"https://www.painelglobal.com.br/noticias.php?t=Condicoes_para_o_desenvolvimento_do_La_Ni%F1a_na_primavera_estao_maiores&id=20250829-104620\"\n",
    "url=\"https://www.painelglobal.com.br/noticias.php?t=Uma_tempestade_de_areia_cinematografica_avancou_sobre_Phoenix,_no_Arizona&id=20250827-094211\""
   ]
  },
  {
   "cell_type": "code",
   "execution_count": 53,
   "id": "9c9cefb7-6ffe-44fe-9095-852218e2fd3b",
   "metadata": {},
   "outputs": [],
   "source": [
    "url=\"https://www.melhoresdestinos.com.br/milhas/valendo-mudancas-mastercard-black-salas-vip\""
   ]
  },
  {
   "cell_type": "code",
   "execution_count": 54,
   "id": "e8814773-ade6-4fc5-bbe6-49465431c497",
   "metadata": {},
   "outputs": [],
   "source": [
    "page = requests.get(url)\n",
    "soup = BeautifulSoup(page.text, 'html.parser')"
   ]
  },
  {
   "cell_type": "code",
   "execution_count": 55,
   "id": "393cef0b-3edc-408c-a0a5-7716728149ca",
   "metadata": {},
   "outputs": [],
   "source": [
    "title = soup.html.head.title.text\n",
    "#print(soup.html.head.title.text).encode('utf-16').replace(\"e\", \"\\\"\")\n",
    "#print(soup.html.head.title.text).encode('utf-16').replace(\"'\", \"\\\"\").replace(chr(0xef),\"\").replace(chr(0xbd),\"\").replace(chr(0xbf),\"\")"
   ]
  },
  {
   "cell_type": "code",
   "execution_count": 56,
   "id": "5aa4ed7d-16c9-46b5-8c77-ba15ff5d6454",
   "metadata": {},
   "outputs": [
    {
     "name": "stdout",
     "output_type": "stream",
     "text": [
      "Acesso Bloqueado\n"
     ]
    }
   ],
   "source": [
    "print(soup.html.head.title.text.replace(\"'\", \"\\\"\"))"
   ]
  },
  {
   "cell_type": "code",
   "execution_count": null,
   "id": "c0128669-2d19-4692-9c72-b501bcfb8a91",
   "metadata": {},
   "outputs": [],
   "source": []
  }
 ],
 "metadata": {
  "kernelspec": {
   "display_name": "Python 3 (ipykernel)",
   "language": "python",
   "name": "python3"
  },
  "language_info": {
   "codemirror_mode": {
    "name": "ipython",
    "version": 3
   },
   "file_extension": ".py",
   "mimetype": "text/x-python",
   "name": "python",
   "nbconvert_exporter": "python",
   "pygments_lexer": "ipython3",
   "version": "3.11.7"
  }
 },
 "nbformat": 4,
 "nbformat_minor": 5
}
