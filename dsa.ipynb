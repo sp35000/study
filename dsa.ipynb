{
 "cells": [
  {
   "cell_type": "markdown",
   "id": "276124fc-349d-46d9-9c6a-bbe617b882fd",
   "metadata": {},
   "source": [
    "Contains Duplicate"
   ]
  },
  {
   "cell_type": "code",
   "execution_count": 15,
   "id": "6e0d1cad-78e6-4882-9ef7-abc83ac48fcf",
   "metadata": {},
   "outputs": [
    {
     "data": {
      "text/plain": [
       "[1, 2, 3, 4, 5, 6, 7, 8, 9, 0]"
      ]
     },
     "execution_count": 15,
     "metadata": {},
     "output_type": "execute_result"
    }
   ],
   "source": [
    "nums = [1,2,3,4,5,6,7,8,9,0]\n",
    "#nums = [1,2,3,4,5,6,7,8,9,0,0]\n",
    "result = \"no\"\n",
    "seen = set()\n",
    "nums"
   ]
  },
  {
   "cell_type": "code",
   "execution_count": 16,
   "id": "2868f9e2-6bd1-492d-ada2-6960af3c0104",
   "metadata": {},
   "outputs": [
    {
     "name": "stdout",
     "output_type": "stream",
     "text": [
      "no\n"
     ]
    }
   ],
   "source": [
    "for num in nums:\n",
    "    if num in seen:\n",
    "        result = \"yes\"\n",
    "        break\n",
    "    seen.add(num)\n",
    "print(result)"
   ]
  },
  {
   "cell_type": "markdown",
   "id": "626b4dc4-67a6-480b-82c6-f0a9bf946e09",
   "metadata": {},
   "source": [
    "Valid Anagram\n",
    "An anagram is a string that contains the exact same characters as another string, but the order of the characters can be different."
   ]
  },
  {
   "cell_type": "code",
   "execution_count": 15,
   "id": "4e3ca645-2b13-4e6f-af96-79f056d81002",
   "metadata": {},
   "outputs": [],
   "source": [
    "s=\"ABCDEEEE\"\n",
    "#t=\"FGHIJ\"\n",
    "t=\"EDCBAEEF\""
   ]
  },
  {
   "cell_type": "code",
   "execution_count": 16,
   "id": "60781120-eba6-4f96-a34a-005fa6b1a4f8",
   "metadata": {},
   "outputs": [
    {
     "name": "stdout",
     "output_type": "stream",
     "text": [
      "A->1/E->1\n",
      "B->1/D->1\n",
      "C->1/C->1\n",
      "D->1/B->1\n",
      "E->1/A->1\n",
      "E->2/E->2\n",
      "E->3/E->3\n",
      "E->4/F->1\n",
      "{'A': 1, 'B': 1, 'C': 1, 'D': 1, 'E': 4} == {'E': 3, 'D': 1, 'C': 1, 'B': 1, 'A': 1, 'F': 1}\n",
      "False\n"
     ]
    }
   ],
   "source": [
    "countS, countT = {}, {}\n",
    "for i in range(len(s)):\n",
    "    countS[s[i]] = 1 + countS.get(s[i], 0)\n",
    "    countT[t[i]] = 1 + countT.get(t[i], 0)\n",
    "    print(s[i], end='')\n",
    "    print(\"->\", end='')\n",
    "    print(countS[s[i]], end='')\n",
    "    print(\"/\", end='')\n",
    "    print(t[i], end='')\n",
    "    print(\"->\", end='')\n",
    "    print(countT[t[i]])\n",
    "print(countS, end='')\n",
    "print(\" == \", end='')\n",
    "print(countT)\n",
    "print(countS == countT)"
   ]
  },
  {
   "cell_type": "markdown",
   "id": "5125de6f-2855-43f4-b0f7-7de7b88ad5b6",
   "metadata": {},
   "source": [
    "Valid Palindrome\n",
    "Given a string s, return true if it is a palindrome, otherwise return false.\n",
    "A palindrome is a string that reads the same forward and backward. It is also case-insensitive and ignores all non-alphanumeric characters."
   ]
  },
  {
   "cell_type": "code",
   "execution_count": 2,
   "id": "21c4f445-97c6-4222-a008-525077199377",
   "metadata": {},
   "outputs": [
    {
     "name": "stdout",
     "output_type": "stream",
     "text": [
      "h\n",
      "h\n"
     ]
    }
   ],
   "source": [
    "parm = \"hannah\"\n",
    "ini = 0;\n",
    "end = len(parm)-1\n",
    "#print(parm[ini])\n",
    "#print(parm[end])\n",
    "while ini <= len(parm)-1:\n",
    "    print(parm[ini])\n",
    "    if(parm[ini] != parm[end]):\n",
    "        print(parm + \" is not an anagram\")\n",
    "    else:\n",
    "        ini += 1\n",
    "        end -= 1\n",
    "print(parm + \" is an anagram\")"
   ]
  },
  {
   "cell_type": "markdown",
   "id": "9a2c739d-4b57-4698-baad-c419e047fd53",
   "metadata": {},
   "source": [
    "Best Time to Buy and Sell Stock\n",
    "\n",
    "You are given an integer array prices where prices[i] is the price of NeetCoin on the ith day.\n",
    "You may choose a single day to buy one NeetCoin and choose a different day in the future to sell it.\n",
    "Return the maximum profit you can achieve. You may choose to not make any transactions, in which case the profit would be 0."
   ]
  },
  {
   "cell_type": "code",
   "execution_count": 8,
   "id": "103c028e-7966-4dc3-bebe-2f9e6bfa9850",
   "metadata": {},
   "outputs": [
    {
     "name": "stdout",
     "output_type": "stream",
     "text": [
      "10 10 0\n",
      "10 10 0\n",
      "---\n",
      "1 10 0\n",
      "1 1 0\n",
      "---\n",
      "5 1 0\n",
      "5 1 4\n",
      "---\n",
      "6 1 4\n",
      "6 1 5\n",
      "---\n",
      "7 1 5\n",
      "7 1 6\n",
      "---\n",
      "1 1 6\n",
      "1 1 6\n",
      "---\n",
      "6\n"
     ]
    }
   ],
   "source": [
    "prices = [10,1,5,6,7,1]\n",
    "maxP = 0\n",
    "minBuy = prices[0]\n",
    "for sell in prices:\n",
    "    print(sell,minBuy,maxP)\n",
    "    maxP = max(maxP, sell - minBuy)\n",
    "    minBuy = min(minBuy, sell)\n",
    "    print(sell,minBuy,maxP)\n",
    "    print(\"---\")\n",
    "print(maxP)"
   ]
  },
  {
   "cell_type": "markdown",
   "id": "588e8778-eefa-4b20-91ec-d7988c85f322",
   "metadata": {},
   "source": [
    "Valid Parentheses"
   ]
  },
  {
   "cell_type": "code",
   "execution_count": 20,
   "id": "3852e312-546b-4559-9f7e-90f9a9f2f6ba",
   "metadata": {},
   "outputs": [
    {
     "name": "stdout",
     "output_type": "stream",
     "text": [
      "c=)\n",
      "stack=['{', '{', '{', '[', '[', '[', '(', '(', '('] and stack[-1]( == closeToOpen[c](\n",
      "c=)\n",
      "stack=['{', '{', '{', '[', '[', '[', '(', '('] and stack[-1]( == closeToOpen[c](\n",
      "c=)\n",
      "stack=['{', '{', '{', '[', '[', '[', '('] and stack[-1]( == closeToOpen[c](\n",
      "c=]\n",
      "stack=['{', '{', '{', '[', '[', '['] and stack[-1][ == closeToOpen[c][\n",
      "c=]\n",
      "stack=['{', '{', '{', '[', '['] and stack[-1][ == closeToOpen[c][\n",
      "c=]\n",
      "stack=['{', '{', '{', '['] and stack[-1][ == closeToOpen[c][\n",
      "c=}\n",
      "stack=['{', '{', '{'] and stack[-1]{ == closeToOpen[c]{\n",
      "c=}\n",
      "stack=['{', '{'] and stack[-1]{ == closeToOpen[c]{\n",
      "c=}\n",
      "stack=['{'] and stack[-1]{ == closeToOpen[c]{\n",
      "true\n"
     ]
    }
   ],
   "source": [
    "stack = []\n",
    "closeToOpen = { \")\" : \"(\", \"]\" : \"[\", \"}\" : \"{\" }\n",
    "s=\"{[()]}\"\n",
    "s=\"[[()]}\"\n",
    "s=\"{{{[[[((()))]]]}}}\"\n",
    "for c in s:\n",
    "    if c in closeToOpen:\n",
    "        print('c='+c)\n",
    "        print('stack=',end='')\n",
    "        print(stack,end='')\n",
    "        print(' and stack[-1]',end='')\n",
    "        print(stack[-1],end='')\n",
    "        print(' == closeToOpen[c]',end='')\n",
    "        print (closeToOpen[c])\n",
    "        if stack and stack[-1] == closeToOpen[c]:\n",
    "            stack.pop()\n",
    "        else:\n",
    "            print('false')\n",
    "    else:\n",
    "        stack.append(c)\n",
    "if not stack:\n",
    "    print('true')\n",
    "else:\n",
    "    print('false')"
   ]
  },
  {
   "cell_type": "markdown",
   "id": "d6f1a0ef-d18a-46ce-a52c-3beed6343269",
   "metadata": {},
   "source": [
    "Binary Search"
   ]
  },
  {
   "cell_type": "code",
   "execution_count": 1,
   "id": "0bfc97ee-f031-42a5-bcce-eb20e8875c54",
   "metadata": {},
   "outputs": [
    {
     "name": "stdout",
     "output_type": "stream",
     "text": [
      "2.5\n",
      "2\n"
     ]
    }
   ],
   "source": [
    "print(5/2)\n",
    "print(5//2)"
   ]
  },
  {
   "cell_type": "code",
   "execution_count": null,
   "id": "90d6c432-9288-4180-a336-4f5f721ff829",
   "metadata": {},
   "outputs": [],
   "source": [
    "nums = [0,1,2,3,4,5,6,7,8,9]\n",
    "parmSearch = 4\n",
    "\n",
    "start = 0\n",
    "end = len(nums)\n",
    "# print(end)\n",
    "middle = end//2+1\n",
    "# print(middle)\n",
    "# print(nums[middle])\n",
    "while(middle != 1):\n",
    "    # print(nums[middle])\n",
    "    if nums[int(middle)] > parmSearch:\n",
    "        end = middle\n",
    "    else:\n",
    "        if nums[int(middle)] < parmSearch:\n",
    "            start = middle\n",
    "        else: \n",
    "            print(\"OK\")\n",
    "            break\n",
    "    middle = end//2 "
   ]
  },
  {
   "cell_type": "markdown",
   "id": "aae922f4-d7b7-4803-9231-98879e3f4de9",
   "metadata": {},
   "source": [
    "Reverse Linked List"
   ]
  },
  {
   "cell_type": "code",
   "execution_count": 6,
   "id": "dfdb3a5a-5f78-4cab-b0af-e587523790f6",
   "metadata": {},
   "outputs": [],
   "source": [
    "class Node:\n",
    "  def __init__(self, data):\n",
    "    self.data = data\n",
    "    self.next = None\n",
    "\n",
    "node1 = Node(7)\n",
    "node2 = Node(11)\n",
    "node3 = Node(3)\n",
    "node4 = Node(2)\n",
    "node5 = Node(9)\n",
    "\n",
    "node1.next = node2\n",
    "node2.next = node3\n",
    "node3.next = node4\n",
    "node4.next = node5\n",
    "\n"
   ]
  },
  {
   "cell_type": "code",
   "execution_count": null,
   "id": "28c0dc4c-e131-4cb2-9ff2-61e9c57ccc0f",
   "metadata": {},
   "outputs": [],
   "source": []
  }
 ],
 "metadata": {
  "kernelspec": {
   "display_name": "Python 3 (ipykernel)",
   "language": "python",
   "name": "python3"
  },
  "language_info": {
   "codemirror_mode": {
    "name": "ipython",
    "version": 3
   },
   "file_extension": ".py",
   "mimetype": "text/x-python",
   "name": "python",
   "nbconvert_exporter": "python",
   "pygments_lexer": "ipython3",
   "version": "3.11.7"
  }
 },
 "nbformat": 4,
 "nbformat_minor": 5
}
