{
 "cells": [
  {
   "cell_type": "markdown",
   "id": "276124fc-349d-46d9-9c6a-bbe617b882fd",
   "metadata": {},
   "source": [
    "Contains Duplicate"
   ]
  },
  {
   "cell_type": "code",
   "execution_count": 15,
   "id": "6e0d1cad-78e6-4882-9ef7-abc83ac48fcf",
   "metadata": {},
   "outputs": [
    {
     "data": {
      "text/plain": [
       "[1, 2, 3, 4, 5, 6, 7, 8, 9, 0]"
      ]
     },
     "execution_count": 15,
     "metadata": {},
     "output_type": "execute_result"
    }
   ],
   "source": [
    "nums = [1,2,3,4,5,6,7,8,9,0]\n",
    "#nums = [1,2,3,4,5,6,7,8,9,0,0]\n",
    "result = \"no\"\n",
    "seen = set()\n",
    "nums"
   ]
  },
  {
   "cell_type": "code",
   "execution_count": 16,
   "id": "2868f9e2-6bd1-492d-ada2-6960af3c0104",
   "metadata": {},
   "outputs": [
    {
     "name": "stdout",
     "output_type": "stream",
     "text": [
      "no\n"
     ]
    }
   ],
   "source": [
    "for num in nums:\n",
    "    if num in seen:\n",
    "        result = \"yes\"\n",
    "        break\n",
    "    seen.add(num)\n",
    "print(result)"
   ]
  },
  {
   "cell_type": "markdown",
   "id": "626b4dc4-67a6-480b-82c6-f0a9bf946e09",
   "metadata": {},
   "source": [
    "Valid Anagram\n",
    "An anagram is a string that contains the exact same characters as another string, but the order of the characters can be different."
   ]
  },
  {
   "cell_type": "code",
   "execution_count": 17,
   "id": "4e3ca645-2b13-4e6f-af96-79f056d81002",
   "metadata": {},
   "outputs": [],
   "source": [
    "s=\"ABCDE\"\n",
    "t=\"FGHIJ\""
   ]
  },
  {
   "cell_type": "code",
   "execution_count": 25,
   "id": "60781120-eba6-4f96-a34a-005fa6b1a4f8",
   "metadata": {},
   "outputs": [
    {
     "name": "stdout",
     "output_type": "stream",
     "text": [
      "A\n",
      "1\n",
      "F\n",
      "1\n",
      "B\n",
      "1\n",
      "G\n",
      "1\n",
      "C\n",
      "1\n",
      "H\n",
      "1\n",
      "D\n",
      "1\n",
      "I\n",
      "1\n",
      "E\n",
      "1\n",
      "J\n",
      "1\n",
      "False\n"
     ]
    }
   ],
   "source": [
    "countS, countT = {}, {}\n",
    "for i in range(len(s)):\n",
    "    countS[s[i]] = 1 + countS.get(s[i], 0)\n",
    "    countT[t[i]] = 1 + countT.get(t[i], 0)\n",
    "    print(s[i])\n",
    "    print(countS[s[i]])\n",
    "    print(t[i])\n",
    "    print(countT[t[i]])\n",
    "print(countS == countT)"
   ]
  },
  {
   "cell_type": "code",
   "execution_count": null,
   "id": "0894191d-5cce-4790-946b-315398aa4fe8",
   "metadata": {},
   "outputs": [],
   "source": []
  }
 ],
 "metadata": {
  "kernelspec": {
   "display_name": "Python 3 (ipykernel)",
   "language": "python",
   "name": "python3"
  },
  "language_info": {
   "codemirror_mode": {
    "name": "ipython",
    "version": 3
   },
   "file_extension": ".py",
   "mimetype": "text/x-python",
   "name": "python",
   "nbconvert_exporter": "python",
   "pygments_lexer": "ipython3",
   "version": "3.11.7"
  }
 },
 "nbformat": 4,
 "nbformat_minor": 5
}
