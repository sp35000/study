{
 "cells": [
  {
   "cell_type": "code",
   "execution_count": 1,
   "id": "e983025e-092d-4dfa-b2e6-6a37a451ee15",
   "metadata": {},
   "outputs": [],
   "source": [
    "import numpy as np"
   ]
  },
  {
   "cell_type": "code",
   "execution_count": 2,
   "id": "c4eb90bf-01da-4fff-9e01-137bacab3876",
   "metadata": {},
   "outputs": [],
   "source": [
    "a=np.array([1,2,3,4,5,6,7,8,9,10])\n",
    "b=np.array([1,2,3,4,5,10,9,8,7,6])"
   ]
  },
  {
   "cell_type": "code",
   "execution_count": 3,
   "id": "f885df4b-187b-4334-9aae-9d0d0799a432",
   "metadata": {},
   "outputs": [
    {
     "data": {
      "text/plain": [
       "array([ True,  True,  True,  True,  True, False, False,  True, False,\n",
       "       False])"
      ]
     },
     "execution_count": 3,
     "metadata": {},
     "output_type": "execute_result"
    }
   ],
   "source": [
    "a==b"
   ]
  },
  {
   "cell_type": "code",
   "execution_count": 4,
   "id": "638ae45e-6bf2-41b7-8c50-30991fdbb225",
   "metadata": {},
   "outputs": [
    {
     "data": {
      "text/plain": [
       "array([False, False, False, False, False,  True,  True, False, False,\n",
       "       False])"
      ]
     },
     "execution_count": 4,
     "metadata": {},
     "output_type": "execute_result"
    }
   ],
   "source": [
    "a<b"
   ]
  },
  {
   "cell_type": "code",
   "execution_count": 5,
   "id": "4bb4c16c-7ec2-4d55-b9e7-5a033678ce1a",
   "metadata": {},
   "outputs": [
    {
     "data": {
      "text/plain": [
       "array([False, False, False, False, False, False, False, False,  True,\n",
       "        True])"
      ]
     },
     "execution_count": 5,
     "metadata": {},
     "output_type": "execute_result"
    }
   ],
   "source": [
    "a>b"
   ]
  },
  {
   "cell_type": "markdown",
   "id": "7214c144-5b21-4b86-8c67-963032f8d6de",
   "metadata": {},
   "source": [
    "matrix multiplication: ([[1,2,3][4,5,6]])*([[1,2,3][4,5,6]])=([[1*1,2*2,3*3],[4*4,5*5,6*6]])"
   ]
  },
  {
   "cell_type": "code",
   "execution_count": 9,
   "id": "f68c7441-3ea3-456c-94e5-80a4833b6f2f",
   "metadata": {},
   "outputs": [
    {
     "data": {
      "text/plain": [
       "array([[ 1,  4,  9],\n",
       "       [16, 25, 36]])"
      ]
     },
     "execution_count": 9,
     "metadata": {},
     "output_type": "execute_result"
    }
   ],
   "source": [
    "c=np.array([[1,2,3],[4,5,6]])\n",
    "d=c\n",
    "c*d"
   ]
  },
  {
   "cell_type": "code",
   "execution_count": 11,
   "id": "bf445654-d277-4d01-96cb-7636069b11a8",
   "metadata": {},
   "outputs": [
    {
     "data": {
      "text/plain": [
       "array([[ 2,  4,  6],\n",
       "       [ 8, 10, 12]])"
      ]
     },
     "execution_count": 11,
     "metadata": {},
     "output_type": "execute_result"
    }
   ],
   "source": [
    "c+d"
   ]
  },
  {
   "cell_type": "code",
   "execution_count": null,
   "id": "636139c3-c04c-45f8-a0a0-d0db155064b3",
   "metadata": {},
   "outputs": [],
   "source": []
  }
 ],
 "metadata": {
  "kernelspec": {
   "display_name": "Python 3 (ipykernel)",
   "language": "python",
   "name": "python3"
  },
  "language_info": {
   "codemirror_mode": {
    "name": "ipython",
    "version": 3
   },
   "file_extension": ".py",
   "mimetype": "text/x-python",
   "name": "python",
   "nbconvert_exporter": "python",
   "pygments_lexer": "ipython3",
   "version": "3.11.7"
  }
 },
 "nbformat": 4,
 "nbformat_minor": 5
}
